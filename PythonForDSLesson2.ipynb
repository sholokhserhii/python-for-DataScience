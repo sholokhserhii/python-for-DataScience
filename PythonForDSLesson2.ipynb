{
 "cells": [
  {
   "cell_type": "code",
   "execution_count": 1,
   "id": "ddfba063",
   "metadata": {},
   "outputs": [],
   "source": [
    "import numpy as np"
   ]
  },
  {
   "cell_type": "code",
   "execution_count": 3,
   "id": "ede9828b",
   "metadata": {},
   "outputs": [
    {
     "name": "stdout",
     "output_type": "stream",
     "text": [
      "[[ 1  6]\n",
      " [ 2  8]\n",
      " [ 3 11]\n",
      " [ 3 10]\n",
      " [ 1  7]]\n"
     ]
    }
   ],
   "source": [
    "a=np.array([[1,6],[2,8],[3,11],[3,10],[1,7]])\n",
    "print(a)"
   ]
  },
  {
   "cell_type": "markdown",
   "id": "520f1a13",
   "metadata": {},
   "source": [
    "mean_a=np.array([a.mean(0:,0),a.mean(0:,1)\n",
    "print(mean_a)"
   ]
  },
  {
   "cell_type": "code",
   "execution_count": 7,
   "id": "930bd088",
   "metadata": {},
   "outputs": [
    {
     "name": "stdout",
     "output_type": "stream",
     "text": [
      "[2.  8.4]\n"
     ]
    }
   ],
   "source": [
    "mean_a=np.mean(a,axis=0) \n",
    "print(mean_a)"
   ]
  },
  {
   "cell_type": "code",
   "execution_count": 8,
   "id": "fba511fc",
   "metadata": {},
   "outputs": [
    {
     "name": "stdout",
     "output_type": "stream",
     "text": [
      "[[-1.  -2.4]\n",
      " [ 0.  -0.4]\n",
      " [ 1.   2.6]\n",
      " [ 1.   1.6]\n",
      " [-1.  -1.4]]\n"
     ]
    }
   ],
   "source": [
    "a_centered=a-mean_a\n",
    "print(a_centered)"
   ]
  },
  {
   "cell_type": "code",
   "execution_count": 9,
   "id": "ea911d5c",
   "metadata": {},
   "outputs": [
    {
     "name": "stdout",
     "output_type": "stream",
     "text": [
      "8.0\n"
     ]
    }
   ],
   "source": [
    "a_centered_sp=a_centered[0:,0]@a_centered[0:,1]\n",
    "print(a_centered_sp)"
   ]
  },
  {
   "cell_type": "code",
   "execution_count": 10,
   "id": "a921bf80",
   "metadata": {},
   "outputs": [
    {
     "name": "stdout",
     "output_type": "stream",
     "text": [
      "10\n"
     ]
    }
   ],
   "source": [
    "n=a_centered.size\n",
    "print(n)"
   ]
  },
  {
   "cell_type": "code",
   "execution_count": 11,
   "id": "3e1d3ece",
   "metadata": {},
   "outputs": [
    {
     "name": "stdout",
     "output_type": "stream",
     "text": [
      "0.8888888888888888\n"
     ]
    }
   ],
   "source": [
    "ccov=a_centered_sp/(n-1)\n",
    "print(ccov)"
   ]
  },
  {
   "cell_type": "code",
   "execution_count": 18,
   "id": "fded0755",
   "metadata": {},
   "outputs": [
    {
     "name": "stdout",
     "output_type": "stream",
     "text": [
      "[[1.  2. ]\n",
      " [2.  4.3]]\n",
      "2.0\n"
     ]
    }
   ],
   "source": [
    "c=np.cov(a.T)\n",
    "print(c)\n",
    "print(c[0][1])"
   ]
  },
  {
   "cell_type": "code",
   "execution_count": 17,
   "id": "586d444c",
   "metadata": {},
   "outputs": [
    {
     "name": "stdout",
     "output_type": "stream",
     "text": [
      "2.0\n"
     ]
    }
   ],
   "source": [
    "array1 = np.array([1,2,3,3,1])\n",
    "array2 = np.array([6,8,11,10,7])\n",
    "\n",
    "covariance = np.cov(array1, array2)[0][1]\n",
    "print(covariance)"
   ]
  },
  {
   "cell_type": "code",
   "execution_count": 2,
   "id": "7d1df07a",
   "metadata": {},
   "outputs": [],
   "source": [
    "import pandas as pd"
   ]
  },
  {
   "cell_type": "code",
   "execution_count": 3,
   "id": "41d013dd",
   "metadata": {},
   "outputs": [],
   "source": [
    "a={\"author_id\":[1,2,3],\"author_name\":['Тургенев','Чехов','Островский']}\n",
    "autors=pd.DataFrame(a)"
   ]
  },
  {
   "cell_type": "code",
   "execution_count": 51,
   "id": "7b9ea465",
   "metadata": {},
   "outputs": [
    {
     "name": "stdout",
     "output_type": "stream",
     "text": [
      "   author_id            book_title  price\n",
      "0          1           Отцы и дети    450\n",
      "1          1                 Рудин    300\n",
      "2          1     Дворянское гнездо    350\n",
      "3          2      Толстый и тонкий    500\n",
      "4          2       Дама с собачкой    450\n",
      "5          3                 Гроза    370\n",
      "6          3  Таланты и поклонники    290\n"
     ]
    }
   ],
   "source": [
    "b={\"author_id\":[1,1,1,2,2,3,3],\n",
    "      \"book_title\":['Отцы и дети','Рудин','Дворянское гнездо','Толстый и тонкий','Дама с собачкой','Гроза','Таланты и поклонники'],\n",
    "     \"price\":[450,300,350,500,450,370,290]}\n",
    "book=pd.DataFrame(b)\n",
    "print(book)"
   ]
  },
  {
   "cell_type": "code",
   "execution_count": 47,
   "id": "94467650",
   "metadata": {},
   "outputs": [
    {
     "name": "stdout",
     "output_type": "stream",
     "text": [
      "   author_id            book_title  price author_name\n",
      "0          1           Отцы и дети    450    Тургенев\n",
      "1          1                 Рудин    300    Тургенев\n",
      "2          1     Дворянское гнездо    350    Тургенев\n",
      "3          2      Толстый и тонкий    500       Чехов\n",
      "4          2       Дама с собачкой    450       Чехов\n",
      "5          3                 Гроза    370  Островский\n",
      "6          3  Таланты и поклонники    290  Островский\n"
     ]
    }
   ],
   "source": [
    "authors_price=pd.merge(book,autors,on='author_id',how='inner')\n",
    "print(authors_price)"
   ]
  },
  {
   "cell_type": "code",
   "execution_count": 22,
   "id": "74813c4a",
   "metadata": {},
   "outputs": [
    {
     "data": {
      "text/html": [
       "<div>\n",
       "<style scoped>\n",
       "    .dataframe tbody tr th:only-of-type {\n",
       "        vertical-align: middle;\n",
       "    }\n",
       "\n",
       "    .dataframe tbody tr th {\n",
       "        vertical-align: top;\n",
       "    }\n",
       "\n",
       "    .dataframe thead th {\n",
       "        text-align: right;\n",
       "    }\n",
       "</style>\n",
       "<table border=\"1\" class=\"dataframe\">\n",
       "  <thead>\n",
       "    <tr style=\"text-align: right;\">\n",
       "      <th></th>\n",
       "      <th>author_id</th>\n",
       "      <th>book_title</th>\n",
       "      <th>price</th>\n",
       "      <th>author_name</th>\n",
       "    </tr>\n",
       "  </thead>\n",
       "  <tbody>\n",
       "    <tr>\n",
       "      <th>6</th>\n",
       "      <td>3</td>\n",
       "      <td>Таланты и поклонники</td>\n",
       "      <td>290</td>\n",
       "      <td>Островский</td>\n",
       "    </tr>\n",
       "    <tr>\n",
       "      <th>1</th>\n",
       "      <td>1</td>\n",
       "      <td>Рудин</td>\n",
       "      <td>300</td>\n",
       "      <td>Тургенев</td>\n",
       "    </tr>\n",
       "    <tr>\n",
       "      <th>2</th>\n",
       "      <td>1</td>\n",
       "      <td>Дворянское гнездо</td>\n",
       "      <td>350</td>\n",
       "      <td>Тургенев</td>\n",
       "    </tr>\n",
       "    <tr>\n",
       "      <th>5</th>\n",
       "      <td>3</td>\n",
       "      <td>Гроза</td>\n",
       "      <td>370</td>\n",
       "      <td>Островский</td>\n",
       "    </tr>\n",
       "    <tr>\n",
       "      <th>0</th>\n",
       "      <td>1</td>\n",
       "      <td>Отцы и дети</td>\n",
       "      <td>450</td>\n",
       "      <td>Тургенев</td>\n",
       "    </tr>\n",
       "  </tbody>\n",
       "</table>\n",
       "</div>"
      ],
      "text/plain": [
       "   author_id            book_title  price author_name\n",
       "6          3  Таланты и поклонники    290  Островский\n",
       "1          1                 Рудин    300    Тургенев\n",
       "2          1     Дворянское гнездо    350    Тургенев\n",
       "5          3                 Гроза    370  Островский\n",
       "0          1           Отцы и дети    450    Тургенев"
      ]
     },
     "execution_count": 22,
     "metadata": {},
     "output_type": "execute_result"
    }
   ],
   "source": [
    "authors_price.sort_values(by='price').head(5)"
   ]
  },
  {
   "cell_type": "code",
   "execution_count": 53,
   "id": "9089732c",
   "metadata": {},
   "outputs": [
    {
     "name": "stdout",
     "output_type": "stream",
     "text": [
      "   author_id            book_title  price author_name    cover\n",
      "0          1           Отцы и дети    450    Тургенев  твердая\n",
      "1          1                 Рудин    300    Тургенев   мягкая\n",
      "2          1     Дворянское гнездо    350    Тургенев   мягкая\n",
      "3          2      Толстый и тонкий    500       Чехов  твердая\n",
      "4          2       Дама с собачкой    450       Чехов  твердая\n",
      "5          3                 Гроза    370  Островский   мягкая\n",
      "6          3  Таланты и поклонники    290  Островский   мягкая\n"
     ]
    }
   ],
   "source": [
    "c = pd.DataFrame({\"cover\":['твердая','мягкая','мягкая','твердая','твердая','мягкая','мягкая']})\n",
    "authors_price=pd.concat([authors_price,c],sort=False,axis=1)\n",
    "print(authors_price)"
   ]
  },
  {
   "cell_type": "code",
   "execution_count": 70,
   "id": "78ffa47a",
   "metadata": {},
   "outputs": [
    {
     "name": "stdout",
     "output_type": "stream",
     "text": [
      "             mean_price  min_price  max_price\n",
      "author_name                                  \n",
      "Островский   330.000000        290        370\n",
      "Тургенев     366.666667        300        450\n",
      "Чехов        475.000000        450        500\n"
     ]
    }
   ],
   "source": [
    "aa=authors_price.groupby('author_name')\n",
    "f1 = pd.Series(aa[\"price\"].mean())\n",
    "f2 = pd.Series(aa[\"price\"].min())\n",
    "f3 = pd.Series(aa[\"price\"].max())\n",
    "authors_stat=pd.DataFrame({'mean_price':f1,'min_price':f2,'max_price':f3})\n",
    "print(authors_stat)"
   ]
  },
  {
   "cell_type": "code",
   "execution_count": 61,
   "id": "839efff2",
   "metadata": {},
   "outputs": [
    {
     "name": "stdout",
     "output_type": "stream",
     "text": [
      "cover        мягкая  твердая\n",
      "author_name                 \n",
      "Островский      660        0\n",
      "Тургенев        650      450\n",
      "Чехов             0      950\n"
     ]
    }
   ],
   "source": [
    "import numpy as np\n",
    "book_info=pd.pivot_table(authors_price,values=\"price\",index=['author_name'],columns='cover',aggfunc=np.sum,fill_value=0)\n",
    "print(book_info)"
   ]
  },
  {
   "cell_type": "code",
   "execution_count": 62,
   "id": "574e3211",
   "metadata": {},
   "outputs": [],
   "source": [
    "book_info.to_pickle(\"book_info.pkl\")"
   ]
  },
  {
   "cell_type": "code",
   "execution_count": 63,
   "id": "c10e611b",
   "metadata": {},
   "outputs": [
    {
     "name": "stdout",
     "output_type": "stream",
     "text": [
      "cover        мягкая  твердая\n",
      "author_name                 \n",
      "Островский      660        0\n",
      "Тургенев        650      450\n",
      "Чехов             0      950\n"
     ]
    }
   ],
   "source": [
    "book_info2 = pd.read_pickle(\"book_info.pkl\")\n",
    "print(book_info2)"
   ]
  }
 ],
 "metadata": {
  "kernelspec": {
   "display_name": "Python 3",
   "language": "python",
   "name": "python3"
  },
  "language_info": {
   "codemirror_mode": {
    "name": "ipython",
    "version": 3
   },
   "file_extension": ".py",
   "mimetype": "text/x-python",
   "name": "python",
   "nbconvert_exporter": "python",
   "pygments_lexer": "ipython3",
   "version": "3.8.8"
  }
 },
 "nbformat": 4,
 "nbformat_minor": 5
}
